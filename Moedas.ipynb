{
 "cells": [
  {
   "cell_type": "code",
   "execution_count": 5,
   "id": "69bc442b",
   "metadata": {
    "scrolled": true
   },
   "outputs": [
    {
     "name": "stdout",
     "output_type": "stream",
     "text": [
      "Requirement already satisfied: selenium in c:\\users\\arthur\\anaconda3\\lib\\site-packages (4.1.3)\n",
      "Requirement already satisfied: trio~=0.17 in c:\\users\\arthur\\anaconda3\\lib\\site-packages (from selenium) (0.20.0)\n",
      "Requirement already satisfied: trio-websocket~=0.9 in c:\\users\\arthur\\anaconda3\\lib\\site-packages (from selenium) (0.9.2)\n",
      "Requirement already satisfied: urllib3[secure,socks]~=1.26 in c:\\users\\arthur\\anaconda3\\lib\\site-packages (from selenium) (1.26.7)\n",
      "Requirement already satisfied: outcome in c:\\users\\arthur\\anaconda3\\lib\\site-packages (from trio~=0.17->selenium) (1.1.0)\n",
      "Requirement already satisfied: async-generator>=1.9 in c:\\users\\arthur\\anaconda3\\lib\\site-packages (from trio~=0.17->selenium) (1.10)\n",
      "Requirement already satisfied: idna in c:\\users\\arthur\\anaconda3\\lib\\site-packages (from trio~=0.17->selenium) (3.2)\n",
      "Requirement already satisfied: attrs>=19.2.0 in c:\\users\\arthur\\anaconda3\\lib\\site-packages (from trio~=0.17->selenium) (21.2.0)\n",
      "Requirement already satisfied: sniffio in c:\\users\\arthur\\anaconda3\\lib\\site-packages (from trio~=0.17->selenium) (1.2.0)\n",
      "Requirement already satisfied: cffi>=1.14 in c:\\users\\arthur\\anaconda3\\lib\\site-packages (from trio~=0.17->selenium) (1.14.6)\n",
      "Requirement already satisfied: sortedcontainers in c:\\users\\arthur\\anaconda3\\lib\\site-packages (from trio~=0.17->selenium) (2.4.0)\n",
      "Requirement already satisfied: pycparser in c:\\users\\arthur\\anaconda3\\lib\\site-packages (from cffi>=1.14->trio~=0.17->selenium) (2.20)\n",
      "Requirement already satisfied: wsproto>=0.14 in c:\\users\\arthur\\anaconda3\\lib\\site-packages (from trio-websocket~=0.9->selenium) (1.1.0)\n",
      "Requirement already satisfied: pyOpenSSL>=0.14 in c:\\users\\arthur\\anaconda3\\lib\\site-packages (from urllib3[secure,socks]~=1.26->selenium) (21.0.0)\n",
      "Requirement already satisfied: cryptography>=1.3.4 in c:\\users\\arthur\\anaconda3\\lib\\site-packages (from urllib3[secure,socks]~=1.26->selenium) (3.4.8)\n",
      "Requirement already satisfied: certifi in c:\\users\\arthur\\anaconda3\\lib\\site-packages (from urllib3[secure,socks]~=1.26->selenium) (2021.10.8)\n",
      "Requirement already satisfied: PySocks!=1.5.7,<2.0,>=1.5.6 in c:\\users\\arthur\\anaconda3\\lib\\site-packages (from urllib3[secure,socks]~=1.26->selenium) (1.7.1)\n",
      "Requirement already satisfied: six>=1.5.2 in c:\\users\\arthur\\anaconda3\\lib\\site-packages (from pyOpenSSL>=0.14->urllib3[secure,socks]~=1.26->selenium) (1.16.0)\n",
      "Requirement already satisfied: h11<1,>=0.9.0 in c:\\users\\arthur\\anaconda3\\lib\\site-packages (from wsproto>=0.14->trio-websocket~=0.9->selenium) (0.13.0)\n",
      "Requirement already satisfied: webdriver-manager in c:\\users\\arthur\\anaconda3\\lib\\site-packages (3.8.4)\n",
      "Requirement already satisfied: tqdm in c:\\users\\arthur\\anaconda3\\lib\\site-packages (from webdriver-manager) (4.62.3)\n",
      "Requirement already satisfied: requests in c:\\users\\arthur\\anaconda3\\lib\\site-packages (from webdriver-manager) (2.26.0)\n",
      "Requirement already satisfied: python-dotenv in c:\\users\\arthur\\anaconda3\\lib\\site-packages (from webdriver-manager) (0.21.0)\n",
      "Requirement already satisfied: charset-normalizer~=2.0.0 in c:\\users\\arthur\\anaconda3\\lib\\site-packages (from requests->webdriver-manager) (2.0.4)\n",
      "Requirement already satisfied: certifi>=2017.4.17 in c:\\users\\arthur\\anaconda3\\lib\\site-packages (from requests->webdriver-manager) (2021.10.8)\n",
      "Requirement already satisfied: idna<4,>=2.5 in c:\\users\\arthur\\anaconda3\\lib\\site-packages (from requests->webdriver-manager) (3.2)\n",
      "Requirement already satisfied: urllib3<1.27,>=1.21.1 in c:\\users\\arthur\\anaconda3\\lib\\site-packages (from requests->webdriver-manager) (1.26.7)\n",
      "Requirement already satisfied: colorama in c:\\users\\arthur\\anaconda3\\lib\\site-packages (from tqdm->webdriver-manager) (0.4.4)\n"
     ]
    }
   ],
   "source": [
    "!pip install selenium\n",
    "!pip install webdriver-manager"
   ]
  },
  {
   "cell_type": "code",
   "execution_count": 6,
   "id": "4b06f781",
   "metadata": {},
   "outputs": [
    {
     "name": "stderr",
     "output_type": "stream",
     "text": [
      "C:\\Users\\Arthur\\AppData\\Local\\Temp/ipykernel_4280/350864541.py:6: DeprecationWarning: executable_path has been deprecated, please pass in a Service object\n",
      "  navegador = webdriver.Chrome(ChromeDriverManager().install())\n"
     ]
    }
   ],
   "source": [
    "from selenium import webdriver # controlar o navegador\n",
    "from selenium.webdriver.common.keys import Keys # usar o teclado\n",
    "from selenium.webdriver.common.by import By # Localizar os itens no navegador\n",
    "from webdriver_manager.chrome import ChromeDriverManager\n",
    "\n",
    "navegador = webdriver.Chrome(ChromeDriverManager().install())\n",
    "\n",
    "navegador.get(\"https://www.google.com.br/\")\n",
    "navegador.find_element(By.XPATH, '/html/body/div[1]/div[3]/form/div[1]/div[1]/div[1]/div/div[2]/input').send_keys(\"dolar\")\n",
    "navegador.find_element(By.XPATH, '/html/body/div[1]/div[3]/form/div[1]/div[1]/div[1]/div/div[2]/input').send_keys(Keys.ENTER)\n",
    "dolar = navegador.find_element(By.XPATH, '//*[@id=\"knowledge-currency__updatable-data-column\"]/div[1]/div[2]/span[1]').get_attribute(\"data-value\")\n",
    "\n",
    "navegador.get(\"https://coinmarketcap.com/currencies/bitcoin/\")\n",
    "bitcoin = navegador.find_element(By.XPATH, '//*[@id=\"__next\"]/div[1]/div[1]/div[2]/div/div[1]/div[2]/div/div[2]/div[1]/div/span').text\n",
    "\n",
    "navegador.get(\"https://coinmarketcap.com/currencies/audius/\")\n",
    "audio = navegador.find_element(By.XPATH, '//*[@id=\"__next\"]/div[1]/div[1]/div[2]/div/div[1]/div[2]/div/div[2]/div[1]/div/span').text\n",
    "\n",
    "navegador.get(\"https://coinmarketcap.com/currencies/sushiswap/\")\n",
    "sushi = navegador.find_element(By.XPATH, '//*[@id=\"__next\"]/div[1]/div[1]/div[2]/div/div[1]/div[3]/div/div[2]/div[1]/div/span').text\n",
    "\n",
    "navegador.get(\"https://coinmarketcap.com/currencies/aave/\")\n",
    "aave = navegador.find_element(By.XPATH, '//*[@id=\"__next\"]/div[1]/div[1]/div[2]/div/div[1]/div[2]/div/div[2]/div[1]/div/span').text\n",
    "\n",
    "navegador.get(\"https://coinmarketcap.com/currencies/cardano/\")\n",
    "ada = navegador.find_element(By.XPATH, '//*[@id=\"__next\"]/div[1]/div[1]/div[2]/div/div[1]/div[2]/div/div[2]/div[1]/div/span').text\n",
    "\n",
    "navegador.get(\"https://coinmarketcap.com/currencies/spell-token/\")\n",
    "spell = navegador.find_element(By.XPATH, '//*[@id=\"__next\"]/div[1]/div[1]/div[2]/div/div[1]/div[2]/div/div[2]/div[1]/div/span').text\n",
    "\n",
    "bitcoin = bitcoin.replace(',', '')\n",
    "bitcoin = bitcoin.replace('$', '')\n",
    "audio = audio.replace(',', '')\n",
    "audio  = audio.replace('$', '')\n",
    "sushi = sushi.replace(',', '')\n",
    "sushi = sushi.replace('$', '')\n",
    "aave = aave.replace(',', '')\n",
    "aave = aave.replace('$', '')\n",
    "ada = ada.replace(',', '')\n",
    "ada = ada.replace('$', '')\n",
    "spell = spell.replace(',', '')\n",
    "spell = spell.replace('$', '')\n",
    "\n",
    "navegador.quit()\n",
    "    "
   ]
  },
  {
   "cell_type": "code",
   "execution_count": 7,
   "id": "9d115e1f",
   "metadata": {},
   "outputs": [
    {
     "data": {
      "text/html": [
       "<div>\n",
       "<style scoped>\n",
       "    .dataframe tbody tr th:only-of-type {\n",
       "        vertical-align: middle;\n",
       "    }\n",
       "\n",
       "    .dataframe tbody tr th {\n",
       "        vertical-align: top;\n",
       "    }\n",
       "\n",
       "    .dataframe thead th {\n",
       "        text-align: right;\n",
       "    }\n",
       "</style>\n",
       "<table border=\"1\" class=\"dataframe\">\n",
       "  <thead>\n",
       "    <tr style=\"text-align: right;\">\n",
       "      <th></th>\n",
       "      <th>id</th>\n",
       "      <th>moeda</th>\n",
       "      <th>preço em real</th>\n",
       "      <th>cotação do dólar</th>\n",
       "      <th>preço em dólar</th>\n",
       "    </tr>\n",
       "  </thead>\n",
       "  <tbody>\n",
       "    <tr>\n",
       "      <th>0</th>\n",
       "      <td>1</td>\n",
       "      <td>bitcoin</td>\n",
       "      <td>98779.70054</td>\n",
       "      <td>5.1629</td>\n",
       "      <td>19132.60000</td>\n",
       "    </tr>\n",
       "    <tr>\n",
       "      <th>1</th>\n",
       "      <td>2</td>\n",
       "      <td>audio</td>\n",
       "      <td>0.928289</td>\n",
       "      <td>5.1629</td>\n",
       "      <td>0.17980</td>\n",
       "    </tr>\n",
       "    <tr>\n",
       "      <th>2</th>\n",
       "      <td>3</td>\n",
       "      <td>sushi</td>\n",
       "      <td>6.815028</td>\n",
       "      <td>5.1629</td>\n",
       "      <td>1.32000</td>\n",
       "    </tr>\n",
       "    <tr>\n",
       "      <th>3</th>\n",
       "      <td>4</td>\n",
       "      <td>aave</td>\n",
       "      <td>423.822461</td>\n",
       "      <td>5.1629</td>\n",
       "      <td>82.09000</td>\n",
       "    </tr>\n",
       "    <tr>\n",
       "      <th>4</th>\n",
       "      <td>5</td>\n",
       "      <td>ada</td>\n",
       "      <td>1.787396</td>\n",
       "      <td>5.1629</td>\n",
       "      <td>0.34620</td>\n",
       "    </tr>\n",
       "    <tr>\n",
       "      <th>5</th>\n",
       "      <td>6</td>\n",
       "      <td>spell</td>\n",
       "      <td>0.004286</td>\n",
       "      <td>5.1629</td>\n",
       "      <td>0.00083</td>\n",
       "    </tr>\n",
       "  </tbody>\n",
       "</table>\n",
       "</div>"
      ],
      "text/plain": [
       "   id    moeda preço em real cotação do dólar  preço em dólar\n",
       "0   1  bitcoin   98779.70054           5.1629     19132.60000\n",
       "1   2    audio      0.928289           5.1629         0.17980\n",
       "2   3    sushi      6.815028           5.1629         1.32000\n",
       "3   4     aave    423.822461           5.1629        82.09000\n",
       "4   5      ada      1.787396           5.1629         0.34620\n",
       "5   6    spell      0.004286           5.1629         0.00083"
      ]
     },
     "metadata": {},
     "output_type": "display_data"
    }
   ],
   "source": [
    "import pandas as pd\n",
    "\n",
    "tabela = pd.read_excel(\"moedas.xlsx\")\n",
    "tabela.loc[tabela[\"id\"] == 1, \"preço em dólar\"] = float(bitcoin)\n",
    "tabela.loc[tabela[\"id\"] == 2, \"preço em dólar\"] = float(audio)\n",
    "tabela.loc[tabela[\"id\"] == 3, \"preço em dólar\"] = float(sushi)\n",
    "tabela.loc[tabela[\"id\"] == 4, \"preço em dólar\"] = float(aave)\n",
    "tabela.loc[tabela[\"id\"] == 5, \"preço em dólar\"] = float(ada)\n",
    "tabela.loc[tabela[\"id\"] == 6, \"preço em dólar\"] = float(spell)\n",
    "tabela.loc[tabela[\"cotação do dólar\"] == \"dolar\", \"cotação do dólar\"] = float(dolar)\n",
    "tabela[\"preço em real\"] = tabela[\"preço em dólar\"] * tabela[\"cotação do dólar\"]\n",
    "display(tabela)"
   ]
  },
  {
   "cell_type": "code",
   "execution_count": 8,
   "id": "7c177e37",
   "metadata": {},
   "outputs": [],
   "source": [
    "tabela.to_excel(\"PrecoMoedas.xlsx\", index=False)"
   ]
  },
  {
   "cell_type": "code",
   "execution_count": null,
   "id": "65130da6",
   "metadata": {},
   "outputs": [],
   "source": []
  }
 ],
 "metadata": {
  "kernelspec": {
   "display_name": "Python 3 (ipykernel)",
   "language": "python",
   "name": "python3"
  },
  "language_info": {
   "codemirror_mode": {
    "name": "ipython",
    "version": 3
   },
   "file_extension": ".py",
   "mimetype": "text/x-python",
   "name": "python",
   "nbconvert_exporter": "python",
   "pygments_lexer": "ipython3",
   "version": "3.9.7"
  }
 },
 "nbformat": 4,
 "nbformat_minor": 5
}
